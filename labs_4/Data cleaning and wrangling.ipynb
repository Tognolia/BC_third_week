{
 "cells": [
  {
   "cell_type": "code",
   "execution_count": 1,
   "id": "photographic-likelihood",
   "metadata": {},
   "outputs": [],
   "source": [
    "import pandas as pd \n",
    "import seaborn as sns \n",
    "import matplotlib.pyplot as plt\n",
    "import numpy as np \n",
    "import statistics as stats"
   ]
  },
  {
   "cell_type": "code",
   "execution_count": 2,
   "id": "worth-rouge",
   "metadata": {},
   "outputs": [
    {
     "name": "stdout",
     "output_type": "stream",
     "text": [
      "Data cleaning and wrangling.ipynb  marketing_customer_analysis.csv\r\n",
      "customer_churn.csv                 sql_tableau_python.csv\r\n",
      "imbalanced_data.ipynb\r\n"
     ]
    }
   ],
   "source": [
    "%ls"
   ]
  },
  {
   "cell_type": "code",
   "execution_count": 3,
   "id": "engaging-charter",
   "metadata": {},
   "outputs": [
    {
     "data": {
      "text/html": [
       "<div>\n",
       "<style scoped>\n",
       "    .dataframe tbody tr th:only-of-type {\n",
       "        vertical-align: middle;\n",
       "    }\n",
       "\n",
       "    .dataframe tbody tr th {\n",
       "        vertical-align: top;\n",
       "    }\n",
       "\n",
       "    .dataframe thead th {\n",
       "        text-align: right;\n",
       "    }\n",
       "</style>\n",
       "<table border=\"1\" class=\"dataframe\">\n",
       "  <thead>\n",
       "    <tr style=\"text-align: right;\">\n",
       "      <th></th>\n",
       "      <th>Customer</th>\n",
       "      <th>State</th>\n",
       "      <th>Customer Lifetime Value</th>\n",
       "      <th>Response</th>\n",
       "      <th>Coverage</th>\n",
       "      <th>Education</th>\n",
       "      <th>Effective To Date</th>\n",
       "      <th>EmploymentStatus</th>\n",
       "      <th>Gender</th>\n",
       "      <th>Income</th>\n",
       "      <th>...</th>\n",
       "      <th>Months Since Policy Inception</th>\n",
       "      <th>Number of Open Complaints</th>\n",
       "      <th>Number of Policies</th>\n",
       "      <th>Policy Type</th>\n",
       "      <th>Policy</th>\n",
       "      <th>Renew Offer Type</th>\n",
       "      <th>Sales Channel</th>\n",
       "      <th>Total Claim Amount</th>\n",
       "      <th>Vehicle Class</th>\n",
       "      <th>Vehicle Size</th>\n",
       "    </tr>\n",
       "  </thead>\n",
       "  <tbody>\n",
       "    <tr>\n",
       "      <th>0</th>\n",
       "      <td>BU79786</td>\n",
       "      <td>Washington</td>\n",
       "      <td>2763.519279</td>\n",
       "      <td>No</td>\n",
       "      <td>Basic</td>\n",
       "      <td>Bachelor</td>\n",
       "      <td>2/24/11</td>\n",
       "      <td>Employed</td>\n",
       "      <td>F</td>\n",
       "      <td>56274</td>\n",
       "      <td>...</td>\n",
       "      <td>5</td>\n",
       "      <td>0</td>\n",
       "      <td>1</td>\n",
       "      <td>Corporate Auto</td>\n",
       "      <td>Corporate L3</td>\n",
       "      <td>Offer1</td>\n",
       "      <td>Agent</td>\n",
       "      <td>384.811147</td>\n",
       "      <td>Two-Door Car</td>\n",
       "      <td>Medsize</td>\n",
       "    </tr>\n",
       "    <tr>\n",
       "      <th>1</th>\n",
       "      <td>QZ44356</td>\n",
       "      <td>Arizona</td>\n",
       "      <td>6979.535903</td>\n",
       "      <td>No</td>\n",
       "      <td>Extended</td>\n",
       "      <td>Bachelor</td>\n",
       "      <td>1/31/11</td>\n",
       "      <td>Unemployed</td>\n",
       "      <td>F</td>\n",
       "      <td>0</td>\n",
       "      <td>...</td>\n",
       "      <td>42</td>\n",
       "      <td>0</td>\n",
       "      <td>8</td>\n",
       "      <td>Personal Auto</td>\n",
       "      <td>Personal L3</td>\n",
       "      <td>Offer3</td>\n",
       "      <td>Agent</td>\n",
       "      <td>1131.464935</td>\n",
       "      <td>Four-Door Car</td>\n",
       "      <td>Medsize</td>\n",
       "    </tr>\n",
       "    <tr>\n",
       "      <th>2</th>\n",
       "      <td>AI49188</td>\n",
       "      <td>Nevada</td>\n",
       "      <td>12887.431650</td>\n",
       "      <td>No</td>\n",
       "      <td>Premium</td>\n",
       "      <td>Bachelor</td>\n",
       "      <td>2/19/11</td>\n",
       "      <td>Employed</td>\n",
       "      <td>F</td>\n",
       "      <td>48767</td>\n",
       "      <td>...</td>\n",
       "      <td>38</td>\n",
       "      <td>0</td>\n",
       "      <td>2</td>\n",
       "      <td>Personal Auto</td>\n",
       "      <td>Personal L3</td>\n",
       "      <td>Offer1</td>\n",
       "      <td>Agent</td>\n",
       "      <td>566.472247</td>\n",
       "      <td>Two-Door Car</td>\n",
       "      <td>Medsize</td>\n",
       "    </tr>\n",
       "    <tr>\n",
       "      <th>3</th>\n",
       "      <td>WW63253</td>\n",
       "      <td>California</td>\n",
       "      <td>7645.861827</td>\n",
       "      <td>No</td>\n",
       "      <td>Basic</td>\n",
       "      <td>Bachelor</td>\n",
       "      <td>1/20/11</td>\n",
       "      <td>Unemployed</td>\n",
       "      <td>M</td>\n",
       "      <td>0</td>\n",
       "      <td>...</td>\n",
       "      <td>65</td>\n",
       "      <td>0</td>\n",
       "      <td>7</td>\n",
       "      <td>Corporate Auto</td>\n",
       "      <td>Corporate L2</td>\n",
       "      <td>Offer1</td>\n",
       "      <td>Call Center</td>\n",
       "      <td>529.881344</td>\n",
       "      <td>SUV</td>\n",
       "      <td>Medsize</td>\n",
       "    </tr>\n",
       "    <tr>\n",
       "      <th>4</th>\n",
       "      <td>HB64268</td>\n",
       "      <td>Washington</td>\n",
       "      <td>2813.692575</td>\n",
       "      <td>No</td>\n",
       "      <td>Basic</td>\n",
       "      <td>Bachelor</td>\n",
       "      <td>2/3/11</td>\n",
       "      <td>Employed</td>\n",
       "      <td>M</td>\n",
       "      <td>43836</td>\n",
       "      <td>...</td>\n",
       "      <td>44</td>\n",
       "      <td>0</td>\n",
       "      <td>1</td>\n",
       "      <td>Personal Auto</td>\n",
       "      <td>Personal L1</td>\n",
       "      <td>Offer1</td>\n",
       "      <td>Agent</td>\n",
       "      <td>138.130879</td>\n",
       "      <td>Four-Door Car</td>\n",
       "      <td>Medsize</td>\n",
       "    </tr>\n",
       "  </tbody>\n",
       "</table>\n",
       "<p>5 rows × 24 columns</p>\n",
       "</div>"
      ],
      "text/plain": [
       "  Customer       State  Customer Lifetime Value Response  Coverage Education  \\\n",
       "0  BU79786  Washington              2763.519279       No     Basic  Bachelor   \n",
       "1  QZ44356     Arizona              6979.535903       No  Extended  Bachelor   \n",
       "2  AI49188      Nevada             12887.431650       No   Premium  Bachelor   \n",
       "3  WW63253  California              7645.861827       No     Basic  Bachelor   \n",
       "4  HB64268  Washington              2813.692575       No     Basic  Bachelor   \n",
       "\n",
       "  Effective To Date EmploymentStatus Gender  Income  ...  \\\n",
       "0           2/24/11         Employed      F   56274  ...   \n",
       "1           1/31/11       Unemployed      F       0  ...   \n",
       "2           2/19/11         Employed      F   48767  ...   \n",
       "3           1/20/11       Unemployed      M       0  ...   \n",
       "4            2/3/11         Employed      M   43836  ...   \n",
       "\n",
       "  Months Since Policy Inception Number of Open Complaints  Number of Policies  \\\n",
       "0                             5                         0                   1   \n",
       "1                            42                         0                   8   \n",
       "2                            38                         0                   2   \n",
       "3                            65                         0                   7   \n",
       "4                            44                         0                   1   \n",
       "\n",
       "      Policy Type        Policy  Renew Offer Type  Sales Channel  \\\n",
       "0  Corporate Auto  Corporate L3            Offer1          Agent   \n",
       "1   Personal Auto   Personal L3            Offer3          Agent   \n",
       "2   Personal Auto   Personal L3            Offer1          Agent   \n",
       "3  Corporate Auto  Corporate L2            Offer1    Call Center   \n",
       "4   Personal Auto   Personal L1            Offer1          Agent   \n",
       "\n",
       "  Total Claim Amount  Vehicle Class Vehicle Size  \n",
       "0         384.811147   Two-Door Car      Medsize  \n",
       "1        1131.464935  Four-Door Car      Medsize  \n",
       "2         566.472247   Two-Door Car      Medsize  \n",
       "3         529.881344            SUV      Medsize  \n",
       "4         138.130879  Four-Door Car      Medsize  \n",
       "\n",
       "[5 rows x 24 columns]"
      ]
     },
     "execution_count": 3,
     "metadata": {},
     "output_type": "execute_result"
    }
   ],
   "source": [
    "# import data\n",
    "df = pd.read_csv('marketing_customer_analysis.csv')\n",
    "df.head()"
   ]
  },
  {
   "cell_type": "code",
   "execution_count": 4,
   "id": "opposite-canyon",
   "metadata": {},
   "outputs": [
    {
     "data": {
      "text/plain": [
       "['customer',\n",
       " 'state',\n",
       " 'customer lifetime value',\n",
       " 'response',\n",
       " 'coverage',\n",
       " 'education',\n",
       " 'effective to date',\n",
       " 'employmentstatus',\n",
       " 'gender',\n",
       " 'income',\n",
       " 'location code',\n",
       " 'marital status',\n",
       " 'monthly premium auto',\n",
       " 'months since last claim',\n",
       " 'months since policy inception',\n",
       " 'number of open complaints',\n",
       " 'number of policies',\n",
       " 'policy type',\n",
       " 'policy',\n",
       " 'renew offer type',\n",
       " 'sales channel',\n",
       " 'total claim amount',\n",
       " 'vehicle class',\n",
       " 'vehicle size']"
      ]
     },
     "execution_count": 4,
     "metadata": {},
     "output_type": "execute_result"
    }
   ],
   "source": [
    "### Formatting the cols names\n",
    "#we want to make all the columns into lower case \n",
    "cols = []\n",
    "for i in range(len(df.columns)):\n",
    "    cols.append(df.columns[i].lower())\n",
    "cols"
   ]
  },
  {
   "cell_type": "code",
   "execution_count": 5,
   "id": "temporal-costa",
   "metadata": {},
   "outputs": [
    {
     "data": {
      "text/html": [
       "<div>\n",
       "<style scoped>\n",
       "    .dataframe tbody tr th:only-of-type {\n",
       "        vertical-align: middle;\n",
       "    }\n",
       "\n",
       "    .dataframe tbody tr th {\n",
       "        vertical-align: top;\n",
       "    }\n",
       "\n",
       "    .dataframe thead th {\n",
       "        text-align: right;\n",
       "    }\n",
       "</style>\n",
       "<table border=\"1\" class=\"dataframe\">\n",
       "  <thead>\n",
       "    <tr style=\"text-align: right;\">\n",
       "      <th></th>\n",
       "      <th>customer</th>\n",
       "      <th>state</th>\n",
       "      <th>customer lifetime value</th>\n",
       "      <th>response</th>\n",
       "      <th>coverage</th>\n",
       "      <th>education</th>\n",
       "      <th>effective to date</th>\n",
       "      <th>employmentstatus</th>\n",
       "      <th>gender</th>\n",
       "      <th>income</th>\n",
       "      <th>...</th>\n",
       "      <th>months since policy inception</th>\n",
       "      <th>number of open complaints</th>\n",
       "      <th>number of policies</th>\n",
       "      <th>policy type</th>\n",
       "      <th>policy</th>\n",
       "      <th>renew offer type</th>\n",
       "      <th>sales channel</th>\n",
       "      <th>total claim amount</th>\n",
       "      <th>vehicle class</th>\n",
       "      <th>vehicle size</th>\n",
       "    </tr>\n",
       "  </thead>\n",
       "  <tbody>\n",
       "    <tr>\n",
       "      <th>0</th>\n",
       "      <td>BU79786</td>\n",
       "      <td>Washington</td>\n",
       "      <td>2763.519279</td>\n",
       "      <td>No</td>\n",
       "      <td>Basic</td>\n",
       "      <td>Bachelor</td>\n",
       "      <td>2/24/11</td>\n",
       "      <td>Employed</td>\n",
       "      <td>F</td>\n",
       "      <td>56274</td>\n",
       "      <td>...</td>\n",
       "      <td>5</td>\n",
       "      <td>0</td>\n",
       "      <td>1</td>\n",
       "      <td>Corporate Auto</td>\n",
       "      <td>Corporate L3</td>\n",
       "      <td>Offer1</td>\n",
       "      <td>Agent</td>\n",
       "      <td>384.811147</td>\n",
       "      <td>Two-Door Car</td>\n",
       "      <td>Medsize</td>\n",
       "    </tr>\n",
       "    <tr>\n",
       "      <th>1</th>\n",
       "      <td>QZ44356</td>\n",
       "      <td>Arizona</td>\n",
       "      <td>6979.535903</td>\n",
       "      <td>No</td>\n",
       "      <td>Extended</td>\n",
       "      <td>Bachelor</td>\n",
       "      <td>1/31/11</td>\n",
       "      <td>Unemployed</td>\n",
       "      <td>F</td>\n",
       "      <td>0</td>\n",
       "      <td>...</td>\n",
       "      <td>42</td>\n",
       "      <td>0</td>\n",
       "      <td>8</td>\n",
       "      <td>Personal Auto</td>\n",
       "      <td>Personal L3</td>\n",
       "      <td>Offer3</td>\n",
       "      <td>Agent</td>\n",
       "      <td>1131.464935</td>\n",
       "      <td>Four-Door Car</td>\n",
       "      <td>Medsize</td>\n",
       "    </tr>\n",
       "    <tr>\n",
       "      <th>2</th>\n",
       "      <td>AI49188</td>\n",
       "      <td>Nevada</td>\n",
       "      <td>12887.431650</td>\n",
       "      <td>No</td>\n",
       "      <td>Premium</td>\n",
       "      <td>Bachelor</td>\n",
       "      <td>2/19/11</td>\n",
       "      <td>Employed</td>\n",
       "      <td>F</td>\n",
       "      <td>48767</td>\n",
       "      <td>...</td>\n",
       "      <td>38</td>\n",
       "      <td>0</td>\n",
       "      <td>2</td>\n",
       "      <td>Personal Auto</td>\n",
       "      <td>Personal L3</td>\n",
       "      <td>Offer1</td>\n",
       "      <td>Agent</td>\n",
       "      <td>566.472247</td>\n",
       "      <td>Two-Door Car</td>\n",
       "      <td>Medsize</td>\n",
       "    </tr>\n",
       "    <tr>\n",
       "      <th>3</th>\n",
       "      <td>WW63253</td>\n",
       "      <td>California</td>\n",
       "      <td>7645.861827</td>\n",
       "      <td>No</td>\n",
       "      <td>Basic</td>\n",
       "      <td>Bachelor</td>\n",
       "      <td>1/20/11</td>\n",
       "      <td>Unemployed</td>\n",
       "      <td>M</td>\n",
       "      <td>0</td>\n",
       "      <td>...</td>\n",
       "      <td>65</td>\n",
       "      <td>0</td>\n",
       "      <td>7</td>\n",
       "      <td>Corporate Auto</td>\n",
       "      <td>Corporate L2</td>\n",
       "      <td>Offer1</td>\n",
       "      <td>Call Center</td>\n",
       "      <td>529.881344</td>\n",
       "      <td>SUV</td>\n",
       "      <td>Medsize</td>\n",
       "    </tr>\n",
       "    <tr>\n",
       "      <th>4</th>\n",
       "      <td>HB64268</td>\n",
       "      <td>Washington</td>\n",
       "      <td>2813.692575</td>\n",
       "      <td>No</td>\n",
       "      <td>Basic</td>\n",
       "      <td>Bachelor</td>\n",
       "      <td>2/3/11</td>\n",
       "      <td>Employed</td>\n",
       "      <td>M</td>\n",
       "      <td>43836</td>\n",
       "      <td>...</td>\n",
       "      <td>44</td>\n",
       "      <td>0</td>\n",
       "      <td>1</td>\n",
       "      <td>Personal Auto</td>\n",
       "      <td>Personal L1</td>\n",
       "      <td>Offer1</td>\n",
       "      <td>Agent</td>\n",
       "      <td>138.130879</td>\n",
       "      <td>Four-Door Car</td>\n",
       "      <td>Medsize</td>\n",
       "    </tr>\n",
       "  </tbody>\n",
       "</table>\n",
       "<p>5 rows × 24 columns</p>\n",
       "</div>"
      ],
      "text/plain": [
       "  customer       state  customer lifetime value response  coverage education  \\\n",
       "0  BU79786  Washington              2763.519279       No     Basic  Bachelor   \n",
       "1  QZ44356     Arizona              6979.535903       No  Extended  Bachelor   \n",
       "2  AI49188      Nevada             12887.431650       No   Premium  Bachelor   \n",
       "3  WW63253  California              7645.861827       No     Basic  Bachelor   \n",
       "4  HB64268  Washington              2813.692575       No     Basic  Bachelor   \n",
       "\n",
       "  effective to date employmentstatus gender  income  ...  \\\n",
       "0           2/24/11         Employed      F   56274  ...   \n",
       "1           1/31/11       Unemployed      F       0  ...   \n",
       "2           2/19/11         Employed      F   48767  ...   \n",
       "3           1/20/11       Unemployed      M       0  ...   \n",
       "4            2/3/11         Employed      M   43836  ...   \n",
       "\n",
       "  months since policy inception number of open complaints  number of policies  \\\n",
       "0                             5                         0                   1   \n",
       "1                            42                         0                   8   \n",
       "2                            38                         0                   2   \n",
       "3                            65                         0                   7   \n",
       "4                            44                         0                   1   \n",
       "\n",
       "      policy type        policy  renew offer type  sales channel  \\\n",
       "0  Corporate Auto  Corporate L3            Offer1          Agent   \n",
       "1   Personal Auto   Personal L3            Offer3          Agent   \n",
       "2   Personal Auto   Personal L3            Offer1          Agent   \n",
       "3  Corporate Auto  Corporate L2            Offer1    Call Center   \n",
       "4   Personal Auto   Personal L1            Offer1          Agent   \n",
       "\n",
       "  total claim amount  vehicle class vehicle size  \n",
       "0         384.811147   Two-Door Car      Medsize  \n",
       "1        1131.464935  Four-Door Car      Medsize  \n",
       "2         566.472247   Two-Door Car      Medsize  \n",
       "3         529.881344            SUV      Medsize  \n",
       "4         138.130879  Four-Door Car      Medsize  \n",
       "\n",
       "[5 rows x 24 columns]"
      ]
     },
     "execution_count": 5,
     "metadata": {},
     "output_type": "execute_result"
    }
   ],
   "source": [
    "df.columns = cols\n",
    "df.head()\n"
   ]
  },
  {
   "cell_type": "code",
   "execution_count": 6,
   "id": "distant-gilbert",
   "metadata": {},
   "outputs": [],
   "source": [
    "# create a copy of the df\n",
    "df_or = df.copy()"
   ]
  },
  {
   "cell_type": "code",
   "execution_count": 7,
   "id": "forced-hunger",
   "metadata": {},
   "outputs": [
    {
     "name": "stdout",
     "output_type": "stream",
     "text": [
      "<class 'pandas.core.frame.DataFrame'>\n",
      "RangeIndex: 9134 entries, 0 to 9133\n",
      "Data columns (total 24 columns):\n",
      " #   Column                         Non-Null Count  Dtype  \n",
      "---  ------                         --------------  -----  \n",
      " 0   customer                       9134 non-null   object \n",
      " 1   state                          9134 non-null   object \n",
      " 2   customer lifetime value        9134 non-null   float64\n",
      " 3   response                       9134 non-null   object \n",
      " 4   coverage                       9134 non-null   object \n",
      " 5   education                      9134 non-null   object \n",
      " 6   effective to date              9134 non-null   object \n",
      " 7   employmentstatus               9134 non-null   object \n",
      " 8   gender                         9134 non-null   object \n",
      " 9   income                         9134 non-null   int64  \n",
      " 10  location code                  9134 non-null   object \n",
      " 11  marital status                 9134 non-null   object \n",
      " 12  monthly premium auto           9134 non-null   int64  \n",
      " 13  months since last claim        9134 non-null   int64  \n",
      " 14  months since policy inception  9134 non-null   int64  \n",
      " 15  number of open complaints      9134 non-null   int64  \n",
      " 16  number of policies             9134 non-null   int64  \n",
      " 17  policy type                    9134 non-null   object \n",
      " 18  policy                         9134 non-null   object \n",
      " 19  renew offer type               9134 non-null   object \n",
      " 20  sales channel                  9134 non-null   object \n",
      " 21  total claim amount             9134 non-null   float64\n",
      " 22  vehicle class                  9134 non-null   object \n",
      " 23  vehicle size                   9134 non-null   object \n",
      "dtypes: float64(2), int64(6), object(16)\n",
      "memory usage: 1.7+ MB\n"
     ]
    }
   ],
   "source": [
    "df.info()\n",
    "# there are no nulls values"
   ]
  },
  {
   "cell_type": "markdown",
   "id": "southwest-processing",
   "metadata": {},
   "source": [
    "## EDA"
   ]
  },
  {
   "cell_type": "code",
   "execution_count": 8,
   "id": "reflected-present",
   "metadata": {},
   "outputs": [
    {
     "data": {
      "text/plain": [
       "<AxesSubplot:xlabel='customer lifetime value'>"
      ]
     },
     "execution_count": 8,
     "metadata": {},
     "output_type": "execute_result"
    },
    {
     "data": {
      "image/png": "[encoded data removed]",
      "text/plain": [
       "<Figure size 432x288 with 1 Axes>"
      ]
     },
     "metadata": {
      "needs_background": "light"
     },
     "output_type": "display_data"
    }
   ],
   "source": [
    "sns.boxplot(x=df['customer lifetime value'])"
   ]
  },
  {
   "cell_type": "code",
   "execution_count": 9,
   "id": "daily-chinese",
   "metadata": {},
   "outputs": [
    {
     "data": {
      "text/plain": [
       "<AxesSubplot:xlabel='number of open complaints'>"
      ]
     },
     "execution_count": 9,
     "metadata": {},
     "output_type": "execute_result"
    },
    {
     "data": {
      "image/png": "[encoded data removed]",
      "text/plain": [
       "<Figure size 432x288 with 1 Axes>"
      ]
     },
     "metadata": {
      "needs_background": "light"
     },
     "output_type": "display_data"
    }
   ],
   "source": [
    "sns.boxplot(x=df['number of open complaints'])"
   ]
  },
  {
   "cell_type": "code",
   "execution_count": 10,
   "id": "assumed-convergence",
   "metadata": {},
   "outputs": [
    {
     "name": "stderr",
     "output_type": "stream",
     "text": [
      "/Users/andreatognoli/opt/miniconda3/envs/excondables/lib/python3.9/site-packages/pandas/plotting/_matplotlib/tools.py:400: MatplotlibDeprecationWarning: \n",
      "The is_first_col function was deprecated in Matplotlib 3.4 and will be removed two minor releases later. Use ax.get_subplotspec().is_first_col() instead.\n",
      "  if ax.is_first_col():\n"
     ]
    },
    {
     "data": {
      "image/png": "[encoded data removed]",
      "text/plain": [
       "<Figure size 1080x1440 with 9 Axes>"
      ]
     },
     "metadata": {
      "needs_background": "light"
     },
     "output_type": "display_data"
    }
   ],
   "source": [
    "df.hist(figsize = (15,20));\n",
    "plt.show()"
   ]
  },
  {
   "cell_type": "markdown",
   "id": "roman-assistant",
   "metadata": {},
   "source": [
    "### Outliers management"
   ]
  },
  {
   "cell_type": "code",
   "execution_count": 11,
   "id": "heated-newcastle",
   "metadata": {},
   "outputs": [],
   "source": [
    "# we have to drop the outliers in customer lifetime value\n",
    "#Dropping the outlier rows with standard deviation\n",
    "# Outliers customer lifetime value\n",
    "factor = 3\n",
    "upper_lim = df['customer lifetime value'].mean () + df['customer lifetime value'].std () * factor\n",
    "lower_lim = df['customer lifetime value'].mean () - df['customer lifetime value'].std () * factor\n",
    "\n",
    "df = df[(df['customer lifetime value'] < upper_lim) & (df['customer lifetime value'] > lower_lim)]"
   ]
  },
  {
   "cell_type": "code",
   "execution_count": 12,
   "id": "backed-concentration",
   "metadata": {},
   "outputs": [],
   "source": [
    "# we have to drop the outliers in customer lifetime value\n",
    "#Dropping the outlier rows with standard deviation\n",
    "#monthly premium auto\n",
    "factor = 3\n",
    "upper_lim = df['monthly premium auto'].mean () + df['monthly premium auto'].std () * factor\n",
    "lower_lim = df['monthly premium auto'].mean () - df['monthly premium auto'].std () * factor\n",
    "\n",
    "df = df[(df['monthly premium auto'] < upper_lim) & (df['monthly premium auto'] > lower_lim)]"
   ]
  },
  {
   "cell_type": "code",
   "execution_count": 13,
   "id": "english-rental",
   "metadata": {},
   "outputs": [],
   "source": [
    "# we have to drop the outliers in customer lifetime value\n",
    "#Dropping the outlier rows with standard deviation\n",
    "#number of policies\n",
    "factor = 3\n",
    "upper_lim = df['number of policies'].mean () + df['number of policies'].std () * factor\n",
    "lower_lim = df['number of policies'].mean () - df['number of policies'].std () * factor\n",
    "\n",
    "df = df[(df['number of policies'] < upper_lim) & (df['number of policies'] > lower_lim)]"
   ]
  },
  {
   "cell_type": "code",
   "execution_count": 14,
   "id": "animated-words",
   "metadata": {},
   "outputs": [],
   "source": [
    "# we have to drop the outliers in customer lifetime value\n",
    "#Dropping the outlier rows with standard deviation\n",
    "#total claim amount\n",
    "factor = 3\n",
    "upper_lim = df['total claim amount'].mean () + df['total claim amount'].std () * factor\n",
    "lower_lim = df['total claim amount'].mean () - df['total claim amount'].std () * factor\n",
    "\n",
    "df = df[(df['total claim amount'] < upper_lim) & (df['total claim amount'] > lower_lim)]"
   ]
  },
  {
   "cell_type": "code",
   "execution_count": 15,
   "id": "nearby-graham",
   "metadata": {},
   "outputs": [],
   "source": [
    "# we have to drop the outliers in customer lifetime value\n",
    "#Dropping the outlier rows with standard deviation\n",
    "# monthly premium auto\n",
    "factor = 3\n",
    "upper_lim = df['monthly premium auto'].mean () + df['monthly premium auto'].std () * factor\n",
    "lower_lim = df['monthly premium auto'].mean () - df['monthly premium auto'].std () * factor\n",
    "\n",
    "df = df[(df['monthly premium auto'] < upper_lim) & (df['monthly premium auto'] > lower_lim)]"
   ]
  },
  {
   "cell_type": "markdown",
   "id": "outer-choir",
   "metadata": {},
   "source": [
    "### Normalise the continuos variables\n"
   ]
  },
  {
   "cell_type": "code",
   "execution_count": 16,
   "id": "comfortable-sunrise",
   "metadata": {},
   "outputs": [],
   "source": [
    "# Numeric variables"
   ]
  },
  {
   "cell_type": "code",
   "execution_count": 17,
   "id": "afraid-alarm",
   "metadata": {},
   "outputs": [],
   "source": [
    "# the continuos variable in this case are total claim amount, customer lifetime value, income"
   ]
  },
  {
   "cell_type": "code",
   "execution_count": 18,
   "id": "maritime-clock",
   "metadata": {},
   "outputs": [
    {
     "data": {
      "text/plain": [
       "<AxesSubplot:>"
      ]
     },
     "execution_count": 18,
     "metadata": {},
     "output_type": "execute_result"
    },
    {
     "data": {
      "image/png": "[encoded data removed]",
      "text/plain": [
       "<Figure size 432x288 with 1 Axes>"
      ]
     },
     "metadata": {
      "needs_background": "light"
     },
     "output_type": "display_data"
    }
   ],
   "source": [
    "# min-max-scaler total claim amount\n",
    "# plot before scaling:\n",
    "fig, ax = plt.subplots()\n",
    "sns.boxplot(data=df['total claim amount'], width=.3)\n",
    "sns.stripplot(data=df['total claim amount'], color=\"orange\", jitter=0.1, size=.5, ax=ax)"
   ]
  },
  {
   "cell_type": "code",
   "execution_count": 19,
   "id": "supreme-reason",
   "metadata": {},
   "outputs": [
    {
     "data": {
      "image/png": "[encoded data removed]",
      "text/plain": [
       "<Figure size 432x288 with 1 Axes>"
      ]
     },
     "metadata": {
      "needs_background": "light"
     },
     "output_type": "display_data"
    }
   ],
   "source": [
    "from sklearn.preprocessing import MinMaxScaler\n",
    "df['total claim amount']=MinMaxScaler().fit_transform(df['total claim amount'].values.reshape(-1, 1))\n",
    "\n",
    "# plot after scaling\n",
    "fig, ax = plt.subplots()\n",
    "sns.boxplot(data=df['total claim amount'], width=.3)\n",
    "sns.stripplot(data=df['total claim amount'], color=\"orange\", jitter=0.1, size=.5, ax=ax);"
   ]
  },
  {
   "cell_type": "code",
   "execution_count": 20,
   "id": "parental-procurement",
   "metadata": {},
   "outputs": [
    {
     "data": {
      "text/plain": [
       "0    0.329757\n",
       "1    0.969752\n",
       "2    0.485468\n",
       "3    0.454104\n",
       "4    0.118314\n",
       "Name: total claim amount, dtype: float64"
      ]
     },
     "execution_count": 20,
     "metadata": {},
     "output_type": "execute_result"
    }
   ],
   "source": [
    "df['total claim amount'].head()"
   ]
  },
  {
   "cell_type": "code",
   "execution_count": 21,
   "id": "statistical-browse",
   "metadata": {},
   "outputs": [
    {
     "data": {
      "text/plain": [
       "<AxesSubplot:>"
      ]
     },
     "execution_count": 21,
     "metadata": {},
     "output_type": "execute_result"
    },
    {
     "data": {
      "image/png": "[encoded data removed]",
      "text/plain": [
       "<Figure size 432x288 with 1 Axes>"
      ]
     },
     "metadata": {
      "needs_background": "light"
     },
     "output_type": "display_data"
    }
   ],
   "source": [
    "# min-max-scaler customer lifetime value\n",
    "# plot before scaling:\n",
    "fig, ax = plt.subplots()\n",
    "sns.boxplot(data=df['customer lifetime value'], width=.3)\n",
    "sns.stripplot(data=df['customer lifetime value'], color=\"orange\", jitter=0.1, size=.5, ax=ax)"
   ]
  },
  {
   "cell_type": "code",
   "execution_count": 22,
   "id": "ranging-magazine",
   "metadata": {},
   "outputs": [
    {
     "data": {
      "image/png": "[encoded data removed]",
      "text/plain": [
       "<Figure size 432x288 with 1 Axes>"
      ]
     },
     "metadata": {
      "needs_background": "light"
     },
     "output_type": "display_data"
    }
   ],
   "source": [
    "df['customer lifetime value']=MinMaxScaler().fit_transform(df['customer lifetime value'].values.reshape(-1, 1))\n",
    "\n",
    "# plot after scaling\n",
    "fig, ax = plt.subplots()\n",
    "sns.boxplot(data=df['customer lifetime value'], width=.3)\n",
    "sns.stripplot(data=df['customer lifetime value'], color=\"orange\", jitter=0.1, size=.5, ax=ax);"
   ]
  },
  {
   "cell_type": "code",
   "execution_count": 23,
   "id": "african-orlando",
   "metadata": {},
   "outputs": [
    {
     "data": {
      "text/plain": [
       "<AxesSubplot:>"
      ]
     },
     "execution_count": 23,
     "metadata": {},
     "output_type": "execute_result"
    },
    {
     "data": {
      "image/png": "[encoded data removed]",
      "text/plain": [
       "<Figure size 432x288 with 1 Axes>"
      ]
     },
     "metadata": {
      "needs_background": "light"
     },
     "output_type": "display_data"
    }
   ],
   "source": [
    "# min-max-scaler income\n",
    "# plot before scaling:\n",
    "fig, ax = plt.subplots()\n",
    "sns.boxplot(data=df['income'], width=.3)\n",
    "sns.stripplot(data=df['income'], color=\"orange\", jitter=0.1, size=.5, ax=ax)"
   ]
  },
  {
   "cell_type": "code",
   "execution_count": 24,
   "id": "norwegian-premium",
   "metadata": {},
   "outputs": [
    {
     "data": {
      "image/png": "[encoded data removed]",
      "text/plain": [
       "<Figure size 432x288 with 1 Axes>"
      ]
     },
     "metadata": {
      "needs_background": "light"
     },
     "output_type": "display_data"
    }
   ],
   "source": [
    "df['income']=MinMaxScaler().fit_transform(df['income'].values.reshape(-1, 1))\n",
    "\n",
    "# plot after scaling\n",
    "fig, ax = plt.subplots()\n",
    "sns.boxplot(data=df['income'], width=.3)\n",
    "sns.stripplot(data=df['income'], color=\"orange\", jitter=0.1, size=.5, ax=ax);"
   ]
  },
  {
   "cell_type": "code",
   "execution_count": 25,
   "id": "wound-vegetable",
   "metadata": {},
   "outputs": [],
   "source": [
    "# Categorical values\n",
    "#need to encode te categorical value using the dummies or hot encoder method\n"
   ]
  },
  {
   "cell_type": "code",
   "execution_count": 26,
   "id": "outer-north",
   "metadata": {},
   "outputs": [
    {
     "data": {
      "text/plain": [
       "Employed         5274\n",
       "Unemployed       2119\n",
       "Medical Leave     405\n",
       "Disabled          374\n",
       "Retired           274\n",
       "Name: employmentstatus, dtype: int64"
      ]
     },
     "execution_count": 26,
     "metadata": {},
     "output_type": "execute_result"
    }
   ],
   "source": [
    "df['employmentstatus'].value_counts()"
   ]
  },
  {
   "cell_type": "code",
   "execution_count": 27,
   "id": "associate-cancer",
   "metadata": {},
   "outputs": [
    {
     "data": {
      "text/plain": [
       "Bachelor                2546\n",
       "College                 2490\n",
       "High School or Below    2403\n",
       "Master                   680\n",
       "Doctor                   327\n",
       "Name: education, dtype: int64"
      ]
     },
     "execution_count": 27,
     "metadata": {},
     "output_type": "execute_result"
    }
   ],
   "source": [
    "df['education'].value_counts()"
   ]
  },
  {
   "cell_type": "code",
   "execution_count": 28,
   "id": "charming-prompt",
   "metadata": {},
   "outputs": [
    {
     "data": {
      "text/plain": [
       "Agent          3210\n",
       "Branch         2393\n",
       "Call Center    1625\n",
       "Web            1218\n",
       "Name: sales channel, dtype: int64"
      ]
     },
     "execution_count": 28,
     "metadata": {},
     "output_type": "execute_result"
    }
   ],
   "source": [
    "df['sales channel'].value_counts()"
   ]
  },
  {
   "cell_type": "code",
   "execution_count": 29,
   "id": "becoming-monte",
   "metadata": {},
   "outputs": [
    {
     "data": {
      "text/plain": [
       "Medsize    5938\n",
       "Small      1620\n",
       "Large       888\n",
       "Name: vehicle size, dtype: int64"
      ]
     },
     "execution_count": 29,
     "metadata": {},
     "output_type": "execute_result"
    }
   ],
   "source": [
    "df['vehicle size'].value_counts()"
   ]
  },
  {
   "cell_type": "code",
   "execution_count": 30,
   "id": "clean-brunei",
   "metadata": {},
   "outputs": [
    {
     "data": {
      "text/plain": [
       "Offer1    3418\n",
       "Offer2    2754\n",
       "Offer3    1327\n",
       "Offer4     947\n",
       "Name: renew offer type, dtype: int64"
      ]
     },
     "execution_count": 30,
     "metadata": {},
     "output_type": "execute_result"
    }
   ],
   "source": [
    "df['renew offer type'].value_counts()"
   ]
  },
  {
   "cell_type": "code",
   "execution_count": 31,
   "id": "manufactured-sheriff",
   "metadata": {},
   "outputs": [
    {
     "data": {
      "text/html": [
       "<div>\n",
       "<style scoped>\n",
       "    .dataframe tbody tr th:only-of-type {\n",
       "        vertical-align: middle;\n",
       "    }\n",
       "\n",
       "    .dataframe tbody tr th {\n",
       "        vertical-align: top;\n",
       "    }\n",
       "\n",
       "    .dataframe thead th {\n",
       "        text-align: right;\n",
       "    }\n",
       "</style>\n",
       "<table border=\"1\" class=\"dataframe\">\n",
       "  <thead>\n",
       "    <tr style=\"text-align: right;\">\n",
       "      <th></th>\n",
       "      <th>customer</th>\n",
       "      <th>state</th>\n",
       "      <th>customer lifetime value</th>\n",
       "      <th>response</th>\n",
       "      <th>coverage</th>\n",
       "      <th>education</th>\n",
       "      <th>effective to date</th>\n",
       "      <th>employmentstatus</th>\n",
       "      <th>gender</th>\n",
       "      <th>income</th>\n",
       "      <th>...</th>\n",
       "      <th>months since policy inception</th>\n",
       "      <th>number of open complaints</th>\n",
       "      <th>number of policies</th>\n",
       "      <th>policy type</th>\n",
       "      <th>policy</th>\n",
       "      <th>renew offer type</th>\n",
       "      <th>sales channel</th>\n",
       "      <th>total claim amount</th>\n",
       "      <th>vehicle class</th>\n",
       "      <th>vehicle size</th>\n",
       "    </tr>\n",
       "  </thead>\n",
       "  <tbody>\n",
       "    <tr>\n",
       "      <th>0</th>\n",
       "      <td>BU79786</td>\n",
       "      <td>Washington</td>\n",
       "      <td>0.032522</td>\n",
       "      <td>No</td>\n",
       "      <td>Basic</td>\n",
       "      <td>Bachelor</td>\n",
       "      <td>2/24/11</td>\n",
       "      <td>Employed</td>\n",
       "      <td>F</td>\n",
       "      <td>0.562847</td>\n",
       "      <td>...</td>\n",
       "      <td>5</td>\n",
       "      <td>0</td>\n",
       "      <td>1</td>\n",
       "      <td>Corporate Auto</td>\n",
       "      <td>Corporate L3</td>\n",
       "      <td>Offer1</td>\n",
       "      <td>Agent</td>\n",
       "      <td>0.329757</td>\n",
       "      <td>Two-Door Car</td>\n",
       "      <td>Medsize</td>\n",
       "    </tr>\n",
       "    <tr>\n",
       "      <th>1</th>\n",
       "      <td>QZ44356</td>\n",
       "      <td>Arizona</td>\n",
       "      <td>0.190941</td>\n",
       "      <td>No</td>\n",
       "      <td>Extended</td>\n",
       "      <td>Bachelor</td>\n",
       "      <td>1/31/11</td>\n",
       "      <td>Unemployed</td>\n",
       "      <td>F</td>\n",
       "      <td>0.000000</td>\n",
       "      <td>...</td>\n",
       "      <td>42</td>\n",
       "      <td>0</td>\n",
       "      <td>8</td>\n",
       "      <td>Personal Auto</td>\n",
       "      <td>Personal L3</td>\n",
       "      <td>Offer3</td>\n",
       "      <td>Agent</td>\n",
       "      <td>0.969752</td>\n",
       "      <td>Four-Door Car</td>\n",
       "      <td>Medsize</td>\n",
       "    </tr>\n",
       "    <tr>\n",
       "      <th>2</th>\n",
       "      <td>AI49188</td>\n",
       "      <td>Nevada</td>\n",
       "      <td>0.412934</td>\n",
       "      <td>No</td>\n",
       "      <td>Premium</td>\n",
       "      <td>Bachelor</td>\n",
       "      <td>2/19/11</td>\n",
       "      <td>Employed</td>\n",
       "      <td>F</td>\n",
       "      <td>0.487763</td>\n",
       "      <td>...</td>\n",
       "      <td>38</td>\n",
       "      <td>0</td>\n",
       "      <td>2</td>\n",
       "      <td>Personal Auto</td>\n",
       "      <td>Personal L3</td>\n",
       "      <td>Offer1</td>\n",
       "      <td>Agent</td>\n",
       "      <td>0.485468</td>\n",
       "      <td>Two-Door Car</td>\n",
       "      <td>Medsize</td>\n",
       "    </tr>\n",
       "    <tr>\n",
       "      <th>3</th>\n",
       "      <td>WW63253</td>\n",
       "      <td>California</td>\n",
       "      <td>0.215979</td>\n",
       "      <td>No</td>\n",
       "      <td>Basic</td>\n",
       "      <td>Bachelor</td>\n",
       "      <td>1/20/11</td>\n",
       "      <td>Unemployed</td>\n",
       "      <td>M</td>\n",
       "      <td>0.000000</td>\n",
       "      <td>...</td>\n",
       "      <td>65</td>\n",
       "      <td>0</td>\n",
       "      <td>7</td>\n",
       "      <td>Corporate Auto</td>\n",
       "      <td>Corporate L2</td>\n",
       "      <td>Offer1</td>\n",
       "      <td>Call Center</td>\n",
       "      <td>0.454104</td>\n",
       "      <td>SUV</td>\n",
       "      <td>Medsize</td>\n",
       "    </tr>\n",
       "    <tr>\n",
       "      <th>4</th>\n",
       "      <td>HB64268</td>\n",
       "      <td>Washington</td>\n",
       "      <td>0.034407</td>\n",
       "      <td>No</td>\n",
       "      <td>Basic</td>\n",
       "      <td>Bachelor</td>\n",
       "      <td>2/3/11</td>\n",
       "      <td>Employed</td>\n",
       "      <td>M</td>\n",
       "      <td>0.438443</td>\n",
       "      <td>...</td>\n",
       "      <td>44</td>\n",
       "      <td>0</td>\n",
       "      <td>1</td>\n",
       "      <td>Personal Auto</td>\n",
       "      <td>Personal L1</td>\n",
       "      <td>Offer1</td>\n",
       "      <td>Agent</td>\n",
       "      <td>0.118314</td>\n",
       "      <td>Four-Door Car</td>\n",
       "      <td>Medsize</td>\n",
       "    </tr>\n",
       "  </tbody>\n",
       "</table>\n",
       "<p>5 rows × 24 columns</p>\n",
       "</div>"
      ],
      "text/plain": [
       "  customer       state  customer lifetime value response  coverage education  \\\n",
       "0  BU79786  Washington                 0.032522       No     Basic  Bachelor   \n",
       "1  QZ44356     Arizona                 0.190941       No  Extended  Bachelor   \n",
       "2  AI49188      Nevada                 0.412934       No   Premium  Bachelor   \n",
       "3  WW63253  California                 0.215979       No     Basic  Bachelor   \n",
       "4  HB64268  Washington                 0.034407       No     Basic  Bachelor   \n",
       "\n",
       "  effective to date employmentstatus gender    income  ...  \\\n",
       "0           2/24/11         Employed      F  0.562847  ...   \n",
       "1           1/31/11       Unemployed      F  0.000000  ...   \n",
       "2           2/19/11         Employed      F  0.487763  ...   \n",
       "3           1/20/11       Unemployed      M  0.000000  ...   \n",
       "4            2/3/11         Employed      M  0.438443  ...   \n",
       "\n",
       "  months since policy inception number of open complaints  number of policies  \\\n",
       "0                             5                         0                   1   \n",
       "1                            42                         0                   8   \n",
       "2                            38                         0                   2   \n",
       "3                            65                         0                   7   \n",
       "4                            44                         0                   1   \n",
       "\n",
       "      policy type        policy  renew offer type  sales channel  \\\n",
       "0  Corporate Auto  Corporate L3            Offer1          Agent   \n",
       "1   Personal Auto   Personal L3            Offer3          Agent   \n",
       "2   Personal Auto   Personal L3            Offer1          Agent   \n",
       "3  Corporate Auto  Corporate L2            Offer1    Call Center   \n",
       "4   Personal Auto   Personal L1            Offer1          Agent   \n",
       "\n",
       "  total claim amount  vehicle class vehicle size  \n",
       "0           0.329757   Two-Door Car      Medsize  \n",
       "1           0.969752  Four-Door Car      Medsize  \n",
       "2           0.485468   Two-Door Car      Medsize  \n",
       "3           0.454104            SUV      Medsize  \n",
       "4           0.118314  Four-Door Car      Medsize  \n",
       "\n",
       "[5 rows x 24 columns]"
      ]
     },
     "execution_count": 31,
     "metadata": {},
     "output_type": "execute_result"
    }
   ],
   "source": [
    "df.head()"
   ]
  },
  {
   "cell_type": "code",
   "execution_count": 32,
   "id": "attempted-hebrew",
   "metadata": {},
   "outputs": [],
   "source": [
    "# encoding:\n",
    "# employmentstatus, gender, coverage, education, response, policy type, vehicle size\n",
    "# first encoding method"
   ]
  },
  {
   "cell_type": "code",
   "execution_count": 33,
   "id": "substantial-gauge",
   "metadata": {},
   "outputs": [
    {
     "data": {
      "text/html": [
       "<div>\n",
       "<style scoped>\n",
       "    .dataframe tbody tr th:only-of-type {\n",
       "        vertical-align: middle;\n",
       "    }\n",
       "\n",
       "    .dataframe tbody tr th {\n",
       "        vertical-align: top;\n",
       "    }\n",
       "\n",
       "    .dataframe thead th {\n",
       "        text-align: right;\n",
       "    }\n",
       "</style>\n",
       "<table border=\"1\" class=\"dataframe\">\n",
       "  <thead>\n",
       "    <tr style=\"text-align: right;\">\n",
       "      <th></th>\n",
       "      <th>customer</th>\n",
       "      <th>state</th>\n",
       "      <th>customer lifetime value</th>\n",
       "      <th>response</th>\n",
       "      <th>coverage</th>\n",
       "      <th>education</th>\n",
       "      <th>effective to date</th>\n",
       "      <th>employmentstatus</th>\n",
       "      <th>gender</th>\n",
       "      <th>income</th>\n",
       "      <th>...</th>\n",
       "      <th>months since policy inception</th>\n",
       "      <th>number of open complaints</th>\n",
       "      <th>number of policies</th>\n",
       "      <th>policy type</th>\n",
       "      <th>policy</th>\n",
       "      <th>renew offer type</th>\n",
       "      <th>sales channel</th>\n",
       "      <th>total claim amount</th>\n",
       "      <th>vehicle class</th>\n",
       "      <th>vehicle size</th>\n",
       "    </tr>\n",
       "  </thead>\n",
       "  <tbody>\n",
       "    <tr>\n",
       "      <th>0</th>\n",
       "      <td>BU79786</td>\n",
       "      <td>Washington</td>\n",
       "      <td>0.032522</td>\n",
       "      <td>No</td>\n",
       "      <td>0</td>\n",
       "      <td>Bachelor</td>\n",
       "      <td>2/24/11</td>\n",
       "      <td>Employed</td>\n",
       "      <td>F</td>\n",
       "      <td>0.562847</td>\n",
       "      <td>...</td>\n",
       "      <td>5</td>\n",
       "      <td>0</td>\n",
       "      <td>1</td>\n",
       "      <td>Corporate Auto</td>\n",
       "      <td>Corporate L3</td>\n",
       "      <td>Offer1</td>\n",
       "      <td>Agent</td>\n",
       "      <td>0.329757</td>\n",
       "      <td>Two-Door Car</td>\n",
       "      <td>Medsize</td>\n",
       "    </tr>\n",
       "    <tr>\n",
       "      <th>1</th>\n",
       "      <td>QZ44356</td>\n",
       "      <td>Arizona</td>\n",
       "      <td>0.190941</td>\n",
       "      <td>No</td>\n",
       "      <td>1</td>\n",
       "      <td>Bachelor</td>\n",
       "      <td>1/31/11</td>\n",
       "      <td>Unemployed</td>\n",
       "      <td>F</td>\n",
       "      <td>0.000000</td>\n",
       "      <td>...</td>\n",
       "      <td>42</td>\n",
       "      <td>0</td>\n",
       "      <td>8</td>\n",
       "      <td>Personal Auto</td>\n",
       "      <td>Personal L3</td>\n",
       "      <td>Offer3</td>\n",
       "      <td>Agent</td>\n",
       "      <td>0.969752</td>\n",
       "      <td>Four-Door Car</td>\n",
       "      <td>Medsize</td>\n",
       "    </tr>\n",
       "    <tr>\n",
       "      <th>2</th>\n",
       "      <td>AI49188</td>\n",
       "      <td>Nevada</td>\n",
       "      <td>0.412934</td>\n",
       "      <td>No</td>\n",
       "      <td>2</td>\n",
       "      <td>Bachelor</td>\n",
       "      <td>2/19/11</td>\n",
       "      <td>Employed</td>\n",
       "      <td>F</td>\n",
       "      <td>0.487763</td>\n",
       "      <td>...</td>\n",
       "      <td>38</td>\n",
       "      <td>0</td>\n",
       "      <td>2</td>\n",
       "      <td>Personal Auto</td>\n",
       "      <td>Personal L3</td>\n",
       "      <td>Offer1</td>\n",
       "      <td>Agent</td>\n",
       "      <td>0.485468</td>\n",
       "      <td>Two-Door Car</td>\n",
       "      <td>Medsize</td>\n",
       "    </tr>\n",
       "    <tr>\n",
       "      <th>3</th>\n",
       "      <td>WW63253</td>\n",
       "      <td>California</td>\n",
       "      <td>0.215979</td>\n",
       "      <td>No</td>\n",
       "      <td>0</td>\n",
       "      <td>Bachelor</td>\n",
       "      <td>1/20/11</td>\n",
       "      <td>Unemployed</td>\n",
       "      <td>M</td>\n",
       "      <td>0.000000</td>\n",
       "      <td>...</td>\n",
       "      <td>65</td>\n",
       "      <td>0</td>\n",
       "      <td>7</td>\n",
       "      <td>Corporate Auto</td>\n",
       "      <td>Corporate L2</td>\n",
       "      <td>Offer1</td>\n",
       "      <td>Call Center</td>\n",
       "      <td>0.454104</td>\n",
       "      <td>SUV</td>\n",
       "      <td>Medsize</td>\n",
       "    </tr>\n",
       "    <tr>\n",
       "      <th>4</th>\n",
       "      <td>HB64268</td>\n",
       "      <td>Washington</td>\n",
       "      <td>0.034407</td>\n",
       "      <td>No</td>\n",
       "      <td>0</td>\n",
       "      <td>Bachelor</td>\n",
       "      <td>2/3/11</td>\n",
       "      <td>Employed</td>\n",
       "      <td>M</td>\n",
       "      <td>0.438443</td>\n",
       "      <td>...</td>\n",
       "      <td>44</td>\n",
       "      <td>0</td>\n",
       "      <td>1</td>\n",
       "      <td>Personal Auto</td>\n",
       "      <td>Personal L1</td>\n",
       "      <td>Offer1</td>\n",
       "      <td>Agent</td>\n",
       "      <td>0.118314</td>\n",
       "      <td>Four-Door Car</td>\n",
       "      <td>Medsize</td>\n",
       "    </tr>\n",
       "  </tbody>\n",
       "</table>\n",
       "<p>5 rows × 24 columns</p>\n",
       "</div>"
      ],
      "text/plain": [
       "  customer       state  customer lifetime value response  coverage education  \\\n",
       "0  BU79786  Washington                 0.032522       No         0  Bachelor   \n",
       "1  QZ44356     Arizona                 0.190941       No         1  Bachelor   \n",
       "2  AI49188      Nevada                 0.412934       No         2  Bachelor   \n",
       "3  WW63253  California                 0.215979       No         0  Bachelor   \n",
       "4  HB64268  Washington                 0.034407       No         0  Bachelor   \n",
       "\n",
       "  effective to date employmentstatus gender    income  ...  \\\n",
       "0           2/24/11         Employed      F  0.562847  ...   \n",
       "1           1/31/11       Unemployed      F  0.000000  ...   \n",
       "2           2/19/11         Employed      F  0.487763  ...   \n",
       "3           1/20/11       Unemployed      M  0.000000  ...   \n",
       "4            2/3/11         Employed      M  0.438443  ...   \n",
       "\n",
       "  months since policy inception number of open complaints  number of policies  \\\n",
       "0                             5                         0                   1   \n",
       "1                            42                         0                   8   \n",
       "2                            38                         0                   2   \n",
       "3                            65                         0                   7   \n",
       "4                            44                         0                   1   \n",
       "\n",
       "      policy type        policy  renew offer type  sales channel  \\\n",
       "0  Corporate Auto  Corporate L3            Offer1          Agent   \n",
       "1   Personal Auto   Personal L3            Offer3          Agent   \n",
       "2   Personal Auto   Personal L3            Offer1          Agent   \n",
       "3  Corporate Auto  Corporate L2            Offer1    Call Center   \n",
       "4   Personal Auto   Personal L1            Offer1          Agent   \n",
       "\n",
       "  total claim amount  vehicle class vehicle size  \n",
       "0           0.329757   Two-Door Car      Medsize  \n",
       "1           0.969752  Four-Door Car      Medsize  \n",
       "2           0.485468   Two-Door Car      Medsize  \n",
       "3           0.454104            SUV      Medsize  \n",
       "4           0.118314  Four-Door Car      Medsize  \n",
       "\n",
       "[5 rows x 24 columns]"
      ]
     },
     "execution_count": 33,
     "metadata": {},
     "output_type": "execute_result"
    }
   ],
   "source": [
    "df[\"coverage\"] = df[\"coverage\"].map({\"Basic\" : 0, \"Extended\" : 1, \"Premium\" : 2})\n",
    "# given that column \"coverage\" in the dataframe \"data\" has three categories:\n",
    "# \"basic\", \"extended\", and \"premium\" and values are to be represented in the same order.\n",
    "df.head()"
   ]
  },
  {
   "cell_type": "code",
   "execution_count": 34,
   "id": "welcome-melbourne",
   "metadata": {},
   "outputs": [],
   "source": [
    "df[\"gender\"] = df[\"gender\"].map({\"F\" : 0, \"M\" : 1})"
   ]
  },
  {
   "cell_type": "code",
   "execution_count": 35,
   "id": "satisfied-acting",
   "metadata": {},
   "outputs": [
    {
     "data": {
      "text/html": [
       "<div>\n",
       "<style scoped>\n",
       "    .dataframe tbody tr th:only-of-type {\n",
       "        vertical-align: middle;\n",
       "    }\n",
       "\n",
       "    .dataframe tbody tr th {\n",
       "        vertical-align: top;\n",
       "    }\n",
       "\n",
       "    .dataframe thead th {\n",
       "        text-align: right;\n",
       "    }\n",
       "</style>\n",
       "<table border=\"1\" class=\"dataframe\">\n",
       "  <thead>\n",
       "    <tr style=\"text-align: right;\">\n",
       "      <th></th>\n",
       "      <th>customer</th>\n",
       "      <th>state</th>\n",
       "      <th>customer lifetime value</th>\n",
       "      <th>response</th>\n",
       "      <th>coverage</th>\n",
       "      <th>education</th>\n",
       "      <th>effective to date</th>\n",
       "      <th>employmentstatus</th>\n",
       "      <th>gender</th>\n",
       "      <th>income</th>\n",
       "      <th>...</th>\n",
       "      <th>months since policy inception</th>\n",
       "      <th>number of open complaints</th>\n",
       "      <th>number of policies</th>\n",
       "      <th>policy type</th>\n",
       "      <th>policy</th>\n",
       "      <th>renew offer type</th>\n",
       "      <th>sales channel</th>\n",
       "      <th>total claim amount</th>\n",
       "      <th>vehicle class</th>\n",
       "      <th>vehicle size</th>\n",
       "    </tr>\n",
       "  </thead>\n",
       "  <tbody>\n",
       "    <tr>\n",
       "      <th>0</th>\n",
       "      <td>BU79786</td>\n",
       "      <td>Washington</td>\n",
       "      <td>0.032522</td>\n",
       "      <td>No</td>\n",
       "      <td>0</td>\n",
       "      <td>Bachelor</td>\n",
       "      <td>2/24/11</td>\n",
       "      <td>Employed</td>\n",
       "      <td>0</td>\n",
       "      <td>0.562847</td>\n",
       "      <td>...</td>\n",
       "      <td>5</td>\n",
       "      <td>0</td>\n",
       "      <td>1</td>\n",
       "      <td>Corporate Auto</td>\n",
       "      <td>Corporate L3</td>\n",
       "      <td>Offer1</td>\n",
       "      <td>Agent</td>\n",
       "      <td>0.329757</td>\n",
       "      <td>Two-Door Car</td>\n",
       "      <td>Medsize</td>\n",
       "    </tr>\n",
       "    <tr>\n",
       "      <th>1</th>\n",
       "      <td>QZ44356</td>\n",
       "      <td>Arizona</td>\n",
       "      <td>0.190941</td>\n",
       "      <td>No</td>\n",
       "      <td>1</td>\n",
       "      <td>Bachelor</td>\n",
       "      <td>1/31/11</td>\n",
       "      <td>Unemployed</td>\n",
       "      <td>0</td>\n",
       "      <td>0.000000</td>\n",
       "      <td>...</td>\n",
       "      <td>42</td>\n",
       "      <td>0</td>\n",
       "      <td>8</td>\n",
       "      <td>Personal Auto</td>\n",
       "      <td>Personal L3</td>\n",
       "      <td>Offer3</td>\n",
       "      <td>Agent</td>\n",
       "      <td>0.969752</td>\n",
       "      <td>Four-Door Car</td>\n",
       "      <td>Medsize</td>\n",
       "    </tr>\n",
       "    <tr>\n",
       "      <th>2</th>\n",
       "      <td>AI49188</td>\n",
       "      <td>Nevada</td>\n",
       "      <td>0.412934</td>\n",
       "      <td>No</td>\n",
       "      <td>2</td>\n",
       "      <td>Bachelor</td>\n",
       "      <td>2/19/11</td>\n",
       "      <td>Employed</td>\n",
       "      <td>0</td>\n",
       "      <td>0.487763</td>\n",
       "      <td>...</td>\n",
       "      <td>38</td>\n",
       "      <td>0</td>\n",
       "      <td>2</td>\n",
       "      <td>Personal Auto</td>\n",
       "      <td>Personal L3</td>\n",
       "      <td>Offer1</td>\n",
       "      <td>Agent</td>\n",
       "      <td>0.485468</td>\n",
       "      <td>Two-Door Car</td>\n",
       "      <td>Medsize</td>\n",
       "    </tr>\n",
       "    <tr>\n",
       "      <th>3</th>\n",
       "      <td>WW63253</td>\n",
       "      <td>California</td>\n",
       "      <td>0.215979</td>\n",
       "      <td>No</td>\n",
       "      <td>0</td>\n",
       "      <td>Bachelor</td>\n",
       "      <td>1/20/11</td>\n",
       "      <td>Unemployed</td>\n",
       "      <td>1</td>\n",
       "      <td>0.000000</td>\n",
       "      <td>...</td>\n",
       "      <td>65</td>\n",
       "      <td>0</td>\n",
       "      <td>7</td>\n",
       "      <td>Corporate Auto</td>\n",
       "      <td>Corporate L2</td>\n",
       "      <td>Offer1</td>\n",
       "      <td>Call Center</td>\n",
       "      <td>0.454104</td>\n",
       "      <td>SUV</td>\n",
       "      <td>Medsize</td>\n",
       "    </tr>\n",
       "    <tr>\n",
       "      <th>4</th>\n",
       "      <td>HB64268</td>\n",
       "      <td>Washington</td>\n",
       "      <td>0.034407</td>\n",
       "      <td>No</td>\n",
       "      <td>0</td>\n",
       "      <td>Bachelor</td>\n",
       "      <td>2/3/11</td>\n",
       "      <td>Employed</td>\n",
       "      <td>1</td>\n",
       "      <td>0.438443</td>\n",
       "      <td>...</td>\n",
       "      <td>44</td>\n",
       "      <td>0</td>\n",
       "      <td>1</td>\n",
       "      <td>Personal Auto</td>\n",
       "      <td>Personal L1</td>\n",
       "      <td>Offer1</td>\n",
       "      <td>Agent</td>\n",
       "      <td>0.118314</td>\n",
       "      <td>Four-Door Car</td>\n",
       "      <td>Medsize</td>\n",
       "    </tr>\n",
       "  </tbody>\n",
       "</table>\n",
       "<p>5 rows × 24 columns</p>\n",
       "</div>"
      ],
      "text/plain": [
       "  customer       state  customer lifetime value response  coverage education  \\\n",
       "0  BU79786  Washington                 0.032522       No         0  Bachelor   \n",
       "1  QZ44356     Arizona                 0.190941       No         1  Bachelor   \n",
       "2  AI49188      Nevada                 0.412934       No         2  Bachelor   \n",
       "3  WW63253  California                 0.215979       No         0  Bachelor   \n",
       "4  HB64268  Washington                 0.034407       No         0  Bachelor   \n",
       "\n",
       "  effective to date employmentstatus  gender    income  ...  \\\n",
       "0           2/24/11         Employed       0  0.562847  ...   \n",
       "1           1/31/11       Unemployed       0  0.000000  ...   \n",
       "2           2/19/11         Employed       0  0.487763  ...   \n",
       "3           1/20/11       Unemployed       1  0.000000  ...   \n",
       "4            2/3/11         Employed       1  0.438443  ...   \n",
       "\n",
       "  months since policy inception number of open complaints  number of policies  \\\n",
       "0                             5                         0                   1   \n",
       "1                            42                         0                   8   \n",
       "2                            38                         0                   2   \n",
       "3                            65                         0                   7   \n",
       "4                            44                         0                   1   \n",
       "\n",
       "      policy type        policy  renew offer type  sales channel  \\\n",
       "0  Corporate Auto  Corporate L3            Offer1          Agent   \n",
       "1   Personal Auto   Personal L3            Offer3          Agent   \n",
       "2   Personal Auto   Personal L3            Offer1          Agent   \n",
       "3  Corporate Auto  Corporate L2            Offer1    Call Center   \n",
       "4   Personal Auto   Personal L1            Offer1          Agent   \n",
       "\n",
       "  total claim amount  vehicle class vehicle size  \n",
       "0           0.329757   Two-Door Car      Medsize  \n",
       "1           0.969752  Four-Door Car      Medsize  \n",
       "2           0.485468   Two-Door Car      Medsize  \n",
       "3           0.454104            SUV      Medsize  \n",
       "4           0.118314  Four-Door Car      Medsize  \n",
       "\n",
       "[5 rows x 24 columns]"
      ]
     },
     "execution_count": 35,
     "metadata": {},
     "output_type": "execute_result"
    }
   ],
   "source": [
    "df.head()"
   ]
  },
  {
   "cell_type": "code",
   "execution_count": 36,
   "id": "split-hughes",
   "metadata": {},
   "outputs": [],
   "source": [
    "df[\"employmentstatus\"] = df[\"employmentstatus\"].map({\"Employed\" : 0, \"Unemployed\" : 1,\"Medical Leave\" : 2, \"Disabled\" : 3, \"Retired\" : 4})"
   ]
  },
  {
   "cell_type": "code",
   "execution_count": 37,
   "id": "touched-divorce",
   "metadata": {},
   "outputs": [],
   "source": [
    "df[\"education\"] = df[\"education\"].map({\"Bachelor\" : 0, \"College\" : 1,\"High School or Below\" : 2, \"Master\" : 3, \"Doctor\" : 4})"
   ]
  },
  {
   "cell_type": "code",
   "execution_count": 38,
   "id": "sublime-doctor",
   "metadata": {},
   "outputs": [],
   "source": [
    "df[\"vehicle size\"] = df[\"vehicle size\"].map({\"Medsize\" : 0, \"Small\" : 1,\"Large\" : 2})"
   ]
  },
  {
   "cell_type": "code",
   "execution_count": 39,
   "id": "roman-front",
   "metadata": {},
   "outputs": [],
   "source": [
    "df[\"response\"] = df[\"response\"].map({\"No\" : 0, \"Yes\" : 1})"
   ]
  },
  {
   "cell_type": "code",
   "execution_count": 40,
   "id": "third-simpson",
   "metadata": {},
   "outputs": [],
   "source": [
    "df[\"sales channel\"] = df[\"sales channel\"].map({\"Agent\" : 0, \"Branch\" : 1,\"Call Center\" : 2, \"Web\" : 3})"
   ]
  },
  {
   "cell_type": "code",
   "execution_count": 41,
   "id": "excessive-national",
   "metadata": {},
   "outputs": [],
   "source": [
    "#df[\"policy type\"] = df[\"policy type\"].map({\"Staff car\" : 0, \"Corporate car\" : 1,\"Special Auto\" : 2})"
   ]
  },
  {
   "cell_type": "code",
   "execution_count": 42,
   "id": "expressed-beaver",
   "metadata": {},
   "outputs": [],
   "source": [
    "df[\"vehicle class\"] = df[\"vehicle class\"].map({\"Four-Door Car\" : 0, \"Two-Door Car\" : 1,\"SUV\" : 2, \"Sports Car\" : 3})"
   ]
  },
  {
   "cell_type": "code",
   "execution_count": 43,
   "id": "exposed-captain",
   "metadata": {},
   "outputs": [],
   "source": [
    "df[\"renew offer type\"] = df[\"renew offer type\"].map({\"Offer1\" : 0, \"Offer2\" : 1,\"Offer3\" : 2, \"Offer4\" : 3})"
   ]
  },
  {
   "cell_type": "code",
   "execution_count": 44,
   "id": "light-yugoslavia",
   "metadata": {},
   "outputs": [],
   "source": [
    "# one hot encoder for policy type, policy and state\n",
    "encoded_columns = pd.get_dummies(df['state'])\n",
    "df = df.join(encoded_columns).drop('state', axis=1)\n"
   ]
  },
  {
   "cell_type": "code",
   "execution_count": 45,
   "id": "informed-princess",
   "metadata": {},
   "outputs": [],
   "source": [
    "encoded_columns = pd.get_dummies(df['policy type'])\n",
    "df = df.join(encoded_columns).drop('policy type', axis=1)"
   ]
  },
  {
   "cell_type": "code",
   "execution_count": 46,
   "id": "graduate-membership",
   "metadata": {},
   "outputs": [],
   "source": [
    "encoded_columns = pd.get_dummies(df['policy'])\n",
    "df = df.join(encoded_columns).drop('policy', axis=1)"
   ]
  },
  {
   "cell_type": "code",
   "execution_count": 47,
   "id": "single-momentum",
   "metadata": {},
   "outputs": [],
   "source": [
    "encoded_columns = pd.get_dummies(df['location code'])\n",
    "df = df.join(encoded_columns).drop('location code', axis=1)"
   ]
  },
  {
   "cell_type": "code",
   "execution_count": 48,
   "id": "operating-verse",
   "metadata": {},
   "outputs": [],
   "source": [
    "encoded_columns = pd.get_dummies(df['marital status'])\n",
    "df = df.join(encoded_columns).drop('marital status', axis=1)"
   ]
  },
  {
   "cell_type": "code",
   "execution_count": 65,
   "id": "nonprofit-recall",
   "metadata": {},
   "outputs": [
    {
     "data": {
      "text/html": [
       "<div>\n",
       "<style scoped>\n",
       "    .dataframe tbody tr th:only-of-type {\n",
       "        vertical-align: middle;\n",
       "    }\n",
       "\n",
       "    .dataframe tbody tr th {\n",
       "        vertical-align: top;\n",
       "    }\n",
       "\n",
       "    .dataframe thead th {\n",
       "        text-align: right;\n",
       "    }\n",
       "</style>\n",
       "<table border=\"1\" class=\"dataframe\">\n",
       "  <thead>\n",
       "    <tr style=\"text-align: right;\">\n",
       "      <th></th>\n",
       "      <th>customer</th>\n",
       "      <th>customer lifetime value</th>\n",
       "      <th>response</th>\n",
       "      <th>coverage</th>\n",
       "      <th>education</th>\n",
       "      <th>effective to date</th>\n",
       "      <th>employmentstatus</th>\n",
       "      <th>gender</th>\n",
       "      <th>income</th>\n",
       "      <th>monthly premium auto</th>\n",
       "      <th>...</th>\n",
       "      <th>Special L3</th>\n",
       "      <th>Rural</th>\n",
       "      <th>Suburban</th>\n",
       "      <th>Urban</th>\n",
       "      <th>Divorced</th>\n",
       "      <th>Married</th>\n",
       "      <th>Single</th>\n",
       "      <th>year</th>\n",
       "      <th>month</th>\n",
       "      <th>week</th>\n",
       "    </tr>\n",
       "  </thead>\n",
       "  <tbody>\n",
       "    <tr>\n",
       "      <th>0</th>\n",
       "      <td>BU79786</td>\n",
       "      <td>0.032522</td>\n",
       "      <td>0</td>\n",
       "      <td>0</td>\n",
       "      <td>0</td>\n",
       "      <td>2/24/11</td>\n",
       "      <td>0</td>\n",
       "      <td>0</td>\n",
       "      <td>0.562847</td>\n",
       "      <td>69</td>\n",
       "      <td>...</td>\n",
       "      <td>0</td>\n",
       "      <td>0</td>\n",
       "      <td>1</td>\n",
       "      <td>0</td>\n",
       "      <td>0</td>\n",
       "      <td>1</td>\n",
       "      <td>0</td>\n",
       "      <td>2011</td>\n",
       "      <td>2</td>\n",
       "      <td>8</td>\n",
       "    </tr>\n",
       "    <tr>\n",
       "      <th>1</th>\n",
       "      <td>QZ44356</td>\n",
       "      <td>0.190941</td>\n",
       "      <td>0</td>\n",
       "      <td>1</td>\n",
       "      <td>0</td>\n",
       "      <td>1/31/11</td>\n",
       "      <td>1</td>\n",
       "      <td>0</td>\n",
       "      <td>0.000000</td>\n",
       "      <td>94</td>\n",
       "      <td>...</td>\n",
       "      <td>0</td>\n",
       "      <td>0</td>\n",
       "      <td>1</td>\n",
       "      <td>0</td>\n",
       "      <td>0</td>\n",
       "      <td>0</td>\n",
       "      <td>1</td>\n",
       "      <td>2011</td>\n",
       "      <td>1</td>\n",
       "      <td>5</td>\n",
       "    </tr>\n",
       "    <tr>\n",
       "      <th>2</th>\n",
       "      <td>AI49188</td>\n",
       "      <td>0.412934</td>\n",
       "      <td>0</td>\n",
       "      <td>2</td>\n",
       "      <td>0</td>\n",
       "      <td>2/19/11</td>\n",
       "      <td>0</td>\n",
       "      <td>0</td>\n",
       "      <td>0.487763</td>\n",
       "      <td>108</td>\n",
       "      <td>...</td>\n",
       "      <td>0</td>\n",
       "      <td>0</td>\n",
       "      <td>1</td>\n",
       "      <td>0</td>\n",
       "      <td>0</td>\n",
       "      <td>1</td>\n",
       "      <td>0</td>\n",
       "      <td>2011</td>\n",
       "      <td>2</td>\n",
       "      <td>7</td>\n",
       "    </tr>\n",
       "    <tr>\n",
       "      <th>3</th>\n",
       "      <td>WW63253</td>\n",
       "      <td>0.215979</td>\n",
       "      <td>0</td>\n",
       "      <td>0</td>\n",
       "      <td>0</td>\n",
       "      <td>1/20/11</td>\n",
       "      <td>1</td>\n",
       "      <td>1</td>\n",
       "      <td>0.000000</td>\n",
       "      <td>106</td>\n",
       "      <td>...</td>\n",
       "      <td>0</td>\n",
       "      <td>0</td>\n",
       "      <td>1</td>\n",
       "      <td>0</td>\n",
       "      <td>0</td>\n",
       "      <td>1</td>\n",
       "      <td>0</td>\n",
       "      <td>2011</td>\n",
       "      <td>1</td>\n",
       "      <td>3</td>\n",
       "    </tr>\n",
       "    <tr>\n",
       "      <th>4</th>\n",
       "      <td>HB64268</td>\n",
       "      <td>0.034407</td>\n",
       "      <td>0</td>\n",
       "      <td>0</td>\n",
       "      <td>0</td>\n",
       "      <td>2/3/11</td>\n",
       "      <td>0</td>\n",
       "      <td>1</td>\n",
       "      <td>0.438443</td>\n",
       "      <td>73</td>\n",
       "      <td>...</td>\n",
       "      <td>0</td>\n",
       "      <td>1</td>\n",
       "      <td>0</td>\n",
       "      <td>0</td>\n",
       "      <td>0</td>\n",
       "      <td>0</td>\n",
       "      <td>1</td>\n",
       "      <td>2011</td>\n",
       "      <td>2</td>\n",
       "      <td>5</td>\n",
       "    </tr>\n",
       "  </tbody>\n",
       "</table>\n",
       "<p>5 rows × 45 columns</p>\n",
       "</div>"
      ],
      "text/plain": [
       "  customer  customer lifetime value  response  coverage  education  \\\n",
       "0  BU79786                 0.032522         0         0          0   \n",
       "1  QZ44356                 0.190941         0         1          0   \n",
       "2  AI49188                 0.412934         0         2          0   \n",
       "3  WW63253                 0.215979         0         0          0   \n",
       "4  HB64268                 0.034407         0         0          0   \n",
       "\n",
       "  effective to date  employmentstatus  gender    income  monthly premium auto  \\\n",
       "0           2/24/11                 0       0  0.562847                    69   \n",
       "1           1/31/11                 1       0  0.000000                    94   \n",
       "2           2/19/11                 0       0  0.487763                   108   \n",
       "3           1/20/11                 1       1  0.000000                   106   \n",
       "4            2/3/11                 0       1  0.438443                    73   \n",
       "\n",
       "   ...  Special L3  Rural  Suburban  Urban  Divorced  Married  Single  year  \\\n",
       "0  ...           0      0         1      0         0        1       0  2011   \n",
       "1  ...           0      0         1      0         0        0       1  2011   \n",
       "2  ...           0      0         1      0         0        1       0  2011   \n",
       "3  ...           0      0         1      0         0        1       0  2011   \n",
       "4  ...           0      1         0      0         0        0       1  2011   \n",
       "\n",
       "   month  week  \n",
       "0      2     8  \n",
       "1      1     5  \n",
       "2      2     7  \n",
       "3      1     3  \n",
       "4      2     5  \n",
       "\n",
       "[5 rows x 45 columns]"
      ]
     },
     "execution_count": 65,
     "metadata": {},
     "output_type": "execute_result"
    }
   ],
   "source": [
    "df.head()"
   ]
  },
  {
   "cell_type": "code",
   "execution_count": 50,
   "id": "rental-arbor",
   "metadata": {},
   "outputs": [
    {
     "data": {
      "text/plain": [
       "(8446, 42)"
      ]
     },
     "execution_count": 50,
     "metadata": {},
     "output_type": "execute_result"
    }
   ],
   "source": [
    "df.shape"
   ]
  },
  {
   "cell_type": "code",
   "execution_count": 51,
   "id": "sealed-moldova",
   "metadata": {},
   "outputs": [],
   "source": [
    "# the encoding is done"
   ]
  },
  {
   "cell_type": "markdown",
   "id": "italic-cholesterol",
   "metadata": {},
   "source": [
    "### Date into int"
   ]
  },
  {
   "cell_type": "code",
   "execution_count": 53,
   "id": "spoken-equilibrium",
   "metadata": {},
   "outputs": [
    {
     "name": "stdout",
     "output_type": "stream",
     "text": [
      "<class 'pandas.core.frame.DataFrame'>\n",
      "Int64Index: 8446 entries, 0 to 9133\n",
      "Data columns (total 42 columns):\n",
      " #   Column                         Non-Null Count  Dtype  \n",
      "---  ------                         --------------  -----  \n",
      " 0   customer                       8446 non-null   object \n",
      " 1   customer lifetime value        8446 non-null   float64\n",
      " 2   response                       8446 non-null   int64  \n",
      " 3   coverage                       8446 non-null   int64  \n",
      " 4   education                      8446 non-null   int64  \n",
      " 5   effective to date              8446 non-null   object \n",
      " 6   employmentstatus               8446 non-null   int64  \n",
      " 7   gender                         8446 non-null   int64  \n",
      " 8   income                         8446 non-null   float64\n",
      " 9   monthly premium auto           8446 non-null   int64  \n",
      " 10  months since last claim        8446 non-null   int64  \n",
      " 11  months since policy inception  8446 non-null   int64  \n",
      " 12  number of open complaints      8446 non-null   int64  \n",
      " 13  number of policies             8446 non-null   int64  \n",
      " 14  renew offer type               8446 non-null   int64  \n",
      " 15  sales channel                  8446 non-null   int64  \n",
      " 16  total claim amount             8446 non-null   float64\n",
      " 17  vehicle class                  8446 non-null   int64  \n",
      " 18  vehicle size                   8446 non-null   int64  \n",
      " 19  Arizona                        8446 non-null   uint8  \n",
      " 20  California                     8446 non-null   uint8  \n",
      " 21  Nevada                         8446 non-null   uint8  \n",
      " 22  Oregon                         8446 non-null   uint8  \n",
      " 23  Washington                     8446 non-null   uint8  \n",
      " 24  Corporate Auto                 8446 non-null   uint8  \n",
      " 25  Personal Auto                  8446 non-null   uint8  \n",
      " 26  Special Auto                   8446 non-null   uint8  \n",
      " 27  Corporate L1                   8446 non-null   uint8  \n",
      " 28  Corporate L2                   8446 non-null   uint8  \n",
      " 29  Corporate L3                   8446 non-null   uint8  \n",
      " 30  Personal L1                    8446 non-null   uint8  \n",
      " 31  Personal L2                    8446 non-null   uint8  \n",
      " 32  Personal L3                    8446 non-null   uint8  \n",
      " 33  Special L1                     8446 non-null   uint8  \n",
      " 34  Special L2                     8446 non-null   uint8  \n",
      " 35  Special L3                     8446 non-null   uint8  \n",
      " 36  Rural                          8446 non-null   uint8  \n",
      " 37  Suburban                       8446 non-null   uint8  \n",
      " 38  Urban                          8446 non-null   uint8  \n",
      " 39  Divorced                       8446 non-null   uint8  \n",
      " 40  Married                        8446 non-null   uint8  \n",
      " 41  Single                         8446 non-null   uint8  \n",
      "dtypes: float64(3), int64(14), object(2), uint8(23)\n",
      "memory usage: 1.7+ MB\n"
     ]
    }
   ],
   "source": [
    "df.info()"
   ]
  },
  {
   "cell_type": "code",
   "execution_count": 57,
   "id": "australian-correction",
   "metadata": {},
   "outputs": [],
   "source": [
    " df['year']= pd.DatetimeIndex(df['effective to date']).year"
   ]
  },
  {
   "cell_type": "code",
   "execution_count": 64,
   "id": "endangered-backup",
   "metadata": {},
   "outputs": [],
   "source": [
    "df['month']= pd.DatetimeIndex(df['effective to date']).month"
   ]
  },
  {
   "cell_type": "code",
   "execution_count": 62,
   "id": "better-character",
   "metadata": {},
   "outputs": [
    {
     "name": "stderr",
     "output_type": "stream",
     "text": [
      "<ipython-input-62-8ba3614dd972>:1: FutureWarning: weekofyear and week have been deprecated, please use DatetimeIndex.isocalendar().week instead, which returns a Series.  To exactly reproduce the behavior of week and weekofyear and return an Index, you may call pd.Int64Index(idx.isocalendar().week)\n",
      "  df['week']= pd.DatetimeIndex(df['effective to date']).week\n"
     ]
    }
   ],
   "source": [
    "df['week']= pd.DatetimeIndex(df['effective to date']).week"
   ]
  },
  {
   "cell_type": "code",
   "execution_count": 67,
   "id": "mighty-stake",
   "metadata": {},
   "outputs": [
    {
     "name": "stdout",
     "output_type": "stream",
     "text": [
      "<class 'pandas.core.frame.DataFrame'>\n",
      "Int64Index: 8446 entries, 0 to 9133\n",
      "Data columns (total 45 columns):\n",
      " #   Column                         Non-Null Count  Dtype  \n",
      "---  ------                         --------------  -----  \n",
      " 0   customer                       8446 non-null   object \n",
      " 1   customer lifetime value        8446 non-null   float64\n",
      " 2   response                       8446 non-null   int64  \n",
      " 3   coverage                       8446 non-null   int64  \n",
      " 4   education                      8446 non-null   int64  \n",
      " 5   effective to date              8446 non-null   object \n",
      " 6   employmentstatus               8446 non-null   int64  \n",
      " 7   gender                         8446 non-null   int64  \n",
      " 8   income                         8446 non-null   float64\n",
      " 9   monthly premium auto           8446 non-null   int64  \n",
      " 10  months since last claim        8446 non-null   int64  \n",
      " 11  months since policy inception  8446 non-null   int64  \n",
      " 12  number of open complaints      8446 non-null   int64  \n",
      " 13  number of policies             8446 non-null   int64  \n",
      " 14  renew offer type               8446 non-null   int64  \n",
      " 15  sales channel                  8446 non-null   int64  \n",
      " 16  total claim amount             8446 non-null   float64\n",
      " 17  vehicle class                  8446 non-null   int64  \n",
      " 18  vehicle size                   8446 non-null   int64  \n",
      " 19  Arizona                        8446 non-null   uint8  \n",
      " 20  California                     8446 non-null   uint8  \n",
      " 21  Nevada                         8446 non-null   uint8  \n",
      " 22  Oregon                         8446 non-null   uint8  \n",
      " 23  Washington                     8446 non-null   uint8  \n",
      " 24  Corporate Auto                 8446 non-null   uint8  \n",
      " 25  Personal Auto                  8446 non-null   uint8  \n",
      " 26  Special Auto                   8446 non-null   uint8  \n",
      " 27  Corporate L1                   8446 non-null   uint8  \n",
      " 28  Corporate L2                   8446 non-null   uint8  \n",
      " 29  Corporate L3                   8446 non-null   uint8  \n",
      " 30  Personal L1                    8446 non-null   uint8  \n",
      " 31  Personal L2                    8446 non-null   uint8  \n",
      " 32  Personal L3                    8446 non-null   uint8  \n",
      " 33  Special L1                     8446 non-null   uint8  \n",
      " 34  Special L2                     8446 non-null   uint8  \n",
      " 35  Special L3                     8446 non-null   uint8  \n",
      " 36  Rural                          8446 non-null   uint8  \n",
      " 37  Suburban                       8446 non-null   uint8  \n",
      " 38  Urban                          8446 non-null   uint8  \n",
      " 39  Divorced                       8446 non-null   uint8  \n",
      " 40  Married                        8446 non-null   uint8  \n",
      " 41  Single                         8446 non-null   uint8  \n",
      " 42  year                           8446 non-null   int64  \n",
      " 43  month                          8446 non-null   int64  \n",
      " 44  week                           8446 non-null   int64  \n",
      "dtypes: float64(3), int64(17), object(2), uint8(23)\n",
      "memory usage: 1.9+ MB\n"
     ]
    }
   ],
   "source": [
    "df.info()"
   ]
  },
  {
   "cell_type": "code",
   "execution_count": 70,
   "id": "facial-voice",
   "metadata": {},
   "outputs": [],
   "source": [
    "del df['effective to date']"
   ]
  },
  {
   "cell_type": "code",
   "execution_count": 71,
   "id": "german-product",
   "metadata": {},
   "outputs": [
    {
     "data": {
      "text/html": [
       "<div>\n",
       "<style scoped>\n",
       "    .dataframe tbody tr th:only-of-type {\n",
       "        vertical-align: middle;\n",
       "    }\n",
       "\n",
       "    .dataframe tbody tr th {\n",
       "        vertical-align: top;\n",
       "    }\n",
       "\n",
       "    .dataframe thead th {\n",
       "        text-align: right;\n",
       "    }\n",
       "</style>\n",
       "<table border=\"1\" class=\"dataframe\">\n",
       "  <thead>\n",
       "    <tr style=\"text-align: right;\">\n",
       "      <th></th>\n",
       "      <th>customer</th>\n",
       "      <th>customer lifetime value</th>\n",
       "      <th>response</th>\n",
       "      <th>coverage</th>\n",
       "      <th>education</th>\n",
       "      <th>employmentstatus</th>\n",
       "      <th>gender</th>\n",
       "      <th>income</th>\n",
       "      <th>monthly premium auto</th>\n",
       "      <th>months since last claim</th>\n",
       "      <th>...</th>\n",
       "      <th>Special L3</th>\n",
       "      <th>Rural</th>\n",
       "      <th>Suburban</th>\n",
       "      <th>Urban</th>\n",
       "      <th>Divorced</th>\n",
       "      <th>Married</th>\n",
       "      <th>Single</th>\n",
       "      <th>year</th>\n",
       "      <th>month</th>\n",
       "      <th>week</th>\n",
       "    </tr>\n",
       "  </thead>\n",
       "  <tbody>\n",
       "    <tr>\n",
       "      <th>0</th>\n",
       "      <td>BU79786</td>\n",
       "      <td>0.032522</td>\n",
       "      <td>0</td>\n",
       "      <td>0</td>\n",
       "      <td>0</td>\n",
       "      <td>0</td>\n",
       "      <td>0</td>\n",
       "      <td>0.562847</td>\n",
       "      <td>69</td>\n",
       "      <td>32</td>\n",
       "      <td>...</td>\n",
       "      <td>0</td>\n",
       "      <td>0</td>\n",
       "      <td>1</td>\n",
       "      <td>0</td>\n",
       "      <td>0</td>\n",
       "      <td>1</td>\n",
       "      <td>0</td>\n",
       "      <td>2011</td>\n",
       "      <td>2</td>\n",
       "      <td>8</td>\n",
       "    </tr>\n",
       "    <tr>\n",
       "      <th>1</th>\n",
       "      <td>QZ44356</td>\n",
       "      <td>0.190941</td>\n",
       "      <td>0</td>\n",
       "      <td>1</td>\n",
       "      <td>0</td>\n",
       "      <td>1</td>\n",
       "      <td>0</td>\n",
       "      <td>0.000000</td>\n",
       "      <td>94</td>\n",
       "      <td>13</td>\n",
       "      <td>...</td>\n",
       "      <td>0</td>\n",
       "      <td>0</td>\n",
       "      <td>1</td>\n",
       "      <td>0</td>\n",
       "      <td>0</td>\n",
       "      <td>0</td>\n",
       "      <td>1</td>\n",
       "      <td>2011</td>\n",
       "      <td>1</td>\n",
       "      <td>5</td>\n",
       "    </tr>\n",
       "    <tr>\n",
       "      <th>2</th>\n",
       "      <td>AI49188</td>\n",
       "      <td>0.412934</td>\n",
       "      <td>0</td>\n",
       "      <td>2</td>\n",
       "      <td>0</td>\n",
       "      <td>0</td>\n",
       "      <td>0</td>\n",
       "      <td>0.487763</td>\n",
       "      <td>108</td>\n",
       "      <td>18</td>\n",
       "      <td>...</td>\n",
       "      <td>0</td>\n",
       "      <td>0</td>\n",
       "      <td>1</td>\n",
       "      <td>0</td>\n",
       "      <td>0</td>\n",
       "      <td>1</td>\n",
       "      <td>0</td>\n",
       "      <td>2011</td>\n",
       "      <td>2</td>\n",
       "      <td>7</td>\n",
       "    </tr>\n",
       "    <tr>\n",
       "      <th>3</th>\n",
       "      <td>WW63253</td>\n",
       "      <td>0.215979</td>\n",
       "      <td>0</td>\n",
       "      <td>0</td>\n",
       "      <td>0</td>\n",
       "      <td>1</td>\n",
       "      <td>1</td>\n",
       "      <td>0.000000</td>\n",
       "      <td>106</td>\n",
       "      <td>18</td>\n",
       "      <td>...</td>\n",
       "      <td>0</td>\n",
       "      <td>0</td>\n",
       "      <td>1</td>\n",
       "      <td>0</td>\n",
       "      <td>0</td>\n",
       "      <td>1</td>\n",
       "      <td>0</td>\n",
       "      <td>2011</td>\n",
       "      <td>1</td>\n",
       "      <td>3</td>\n",
       "    </tr>\n",
       "    <tr>\n",
       "      <th>4</th>\n",
       "      <td>HB64268</td>\n",
       "      <td>0.034407</td>\n",
       "      <td>0</td>\n",
       "      <td>0</td>\n",
       "      <td>0</td>\n",
       "      <td>0</td>\n",
       "      <td>1</td>\n",
       "      <td>0.438443</td>\n",
       "      <td>73</td>\n",
       "      <td>12</td>\n",
       "      <td>...</td>\n",
       "      <td>0</td>\n",
       "      <td>1</td>\n",
       "      <td>0</td>\n",
       "      <td>0</td>\n",
       "      <td>0</td>\n",
       "      <td>0</td>\n",
       "      <td>1</td>\n",
       "      <td>2011</td>\n",
       "      <td>2</td>\n",
       "      <td>5</td>\n",
       "    </tr>\n",
       "  </tbody>\n",
       "</table>\n",
       "<p>5 rows × 44 columns</p>\n",
       "</div>"
      ],
      "text/plain": [
       "  customer  customer lifetime value  response  coverage  education  \\\n",
       "0  BU79786                 0.032522         0         0          0   \n",
       "1  QZ44356                 0.190941         0         1          0   \n",
       "2  AI49188                 0.412934         0         2          0   \n",
       "3  WW63253                 0.215979         0         0          0   \n",
       "4  HB64268                 0.034407         0         0          0   \n",
       "\n",
       "   employmentstatus  gender    income  monthly premium auto  \\\n",
       "0                 0       0  0.562847                    69   \n",
       "1                 1       0  0.000000                    94   \n",
       "2                 0       0  0.487763                   108   \n",
       "3                 1       1  0.000000                   106   \n",
       "4                 0       1  0.438443                    73   \n",
       "\n",
       "   months since last claim  ...  Special L3  Rural  Suburban  Urban  Divorced  \\\n",
       "0                       32  ...           0      0         1      0         0   \n",
       "1                       13  ...           0      0         1      0         0   \n",
       "2                       18  ...           0      0         1      0         0   \n",
       "3                       18  ...           0      0         1      0         0   \n",
       "4                       12  ...           0      1         0      0         0   \n",
       "\n",
       "   Married  Single  year  month  week  \n",
       "0        1       0  2011      2     8  \n",
       "1        0       1  2011      1     5  \n",
       "2        1       0  2011      2     7  \n",
       "3        1       0  2011      1     3  \n",
       "4        0       1  2011      2     5  \n",
       "\n",
       "[5 rows x 44 columns]"
      ]
     },
     "execution_count": 71,
     "metadata": {},
     "output_type": "execute_result"
    }
   ],
   "source": [
    "df.head()"
   ]
  },
  {
   "cell_type": "code",
   "execution_count": null,
   "id": "composite-weekly",
   "metadata": {},
   "outputs": [],
   "source": []
  }
 ],
 "metadata": {
  "kernelspec": {
   "display_name": "Python 3",
   "language": "python",
   "name": "python3"
  },
  "language_info": {
   "codemirror_mode": {
    "name": "ipython",
    "version": 3
   },
   "file_extension": ".py",
   "mimetype": "text/x-python",
   "name": "python",
   "nbconvert_exporter": "python",
   "pygments_lexer": "ipython3",
   "version": "3.9.2"
  }
 },
 "nbformat": 4,
 "nbformat_minor": 5
}
